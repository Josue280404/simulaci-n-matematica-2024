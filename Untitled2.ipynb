{
 "cells": [
  {
   "cell_type": "code",
   "execution_count": 6,
   "id": "fadc8901",
   "metadata": {
    "scrolled": true
   },
   "outputs": [],
   "source": [
    "import numpy as np\n",
    "\n",
    "\n",
    "def es_primo(x):\n",
    "    raiz=np.floor(np.sqrt(x))\n",
    "    c = raiz\n",
    "    i=2\n",
    "    while i <= c :\n",
    "        if x%i == 0 :\n",
    "            return(\"No es primo\")\n",
    "        else :\n",
    "            i += 1\n",
    "        \n",
    "    return(\"Es primo\")            \n"
   ]
  },
  {
   "cell_type": "code",
   "execution_count": 8,
   "id": "e4e756cb",
   "metadata": {},
   "outputs": [
    {
     "data": {
      "text/plain": [
       "'Es primo'"
      ]
     },
     "execution_count": 8,
     "metadata": {},
     "output_type": "execute_result"
    }
   ],
   "source": [
    "es_primo(17)"
   ]
  },
  {
   "cell_type": "code",
   "execution_count": 1,
   "id": "c0391468",
   "metadata": {},
   "outputs": [],
   "source": [
    "def factorial(n):\n",
    "    acc = 1\n",
    "    for i in range(1, n+1):\n",
    "        acc= i*acc\n",
    "    return (acc)"
   ]
  },
  {
   "cell_type": "code",
   "execution_count": 2,
   "id": "02da0723",
   "metadata": {},
   "outputs": [
    {
     "data": {
      "text/plain": [
       "120"
      ]
     },
     "execution_count": 2,
     "metadata": {},
     "output_type": "execute_result"
    }
   ],
   "source": [
    "factorial(5)"
   ]
  },
  {
   "cell_type": "code",
   "execution_count": null,
   "id": "e368e59d",
   "metadata": {},
   "outputs": [],
   "source": []
  },
  {
   "cell_type": "code",
   "execution_count": null,
   "id": "e369e53e",
   "metadata": {},
   "outputs": [],
   "source": []
  }
 ],
 "metadata": {
  "kernelspec": {
   "display_name": "Python 3 (ipykernel)",
   "language": "python",
   "name": "python3"
  },
  "language_info": {
   "codemirror_mode": {
    "name": "ipython",
    "version": 3
   },
   "file_extension": ".py",
   "mimetype": "text/x-python",
   "name": "python",
   "nbconvert_exporter": "python",
   "pygments_lexer": "ipython3",
   "version": "3.11.5"
  }
 },
 "nbformat": 4,
 "nbformat_minor": 5
}
