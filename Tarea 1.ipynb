{
 "cells": [
  {
   "cell_type": "markdown",
   "id": "4f284a6b",
   "metadata": {},
   "source": [
    "Francisco Josue Ramirez Avila                                    15/01/2024"
   ]
  },
  {
   "cell_type": "markdown",
   "id": "1c8f2413",
   "metadata": {},
   "source": [
    "![](LogoITESO.png)"
   ]
  },
  {
   "cell_type": "markdown",
   "id": "d341faa4",
   "metadata": {},
   "source": [
    "# *Clase Simulación Matematica*"
   ]
  },
  {
   "cell_type": "markdown",
   "id": "2a033f38",
   "metadata": {},
   "source": [
    "## Tarea 1"
   ]
  },
  {
   "cell_type": "markdown",
   "id": "6c65fabc",
   "metadata": {},
   "source": [
    " Soy Francisco Josué Ramírez Avila, me gusta que me digan Josué, actualmente voy en el tercer semestre de ingenieria financiera pero me cambie de carrea ya que en un principio estudiaba la licenciatura en administración financiera sin embargo me llamaba mucho la atención la programación y la ciencia de datos asi que principalmente por estas cosas fue que me cambie de carrea."
   ]
  },
  {
   "cell_type": "markdown",
   "id": "761e04b3",
   "metadata": {},
   "source": [
    "A continuación una lista sobre las cosas que mas me gusta hacer, en ese respectivo orden:\n",
    "1. **Estar con mi familia**\n",
    "2. **Jugar futbol**\n",
    "3. **Convivir con mis amigos** "
   ]
  },
  {
   "cell_type": "markdown",
   "id": "de19b515",
   "metadata": {},
   "source": [
    "Como dato interesante tambien pondre las comidas que mas me gustan pero en realidad ahi no tengo favoritos ya que todo me gusta:\n",
    "* **Mariscos**\n",
    "* **Tacos**\n",
    "* **Chilaquiles**"
   ]
  },
  {
   "cell_type": "markdown",
   "id": "839f6866",
   "metadata": {},
   "source": [
    "La materia que mas le tengo miedo este semestre es calculo multivariable aunque de cierta manera voy confiado porque le eh entendido bastante a diferencial e integral, en general me gustan esas clases ya que las veo como desafios para probar de lo que sopy capaz yo.\n",
    "\n",
    "Recuerdo que al principio eran ecuaciones muy faciles como $ x^2 + 10x + 20=0 $ y desde ese momento le agarre un gusto a los números en general y a estos temas y la verdad es que siento que mi carrera es justo lo que estaba buscando ya que tanto la introducción a la carrera como todo lo que se ve después me llama la atención,ahora veo las bases para despues desarrollar modelos matematicos y analizar riesgos para la toma de decisiones desde un punto de vista pues ahora si que a pura estadistica y eso a mi me gusta bastante.\n"
   ]
  },
  {
   "cell_type": "markdown",
   "id": "3d282b17",
   "metadata": {},
   "source": [
    "Como ultimo dato a mi me gusta mucho el futbol y estoy en el equipo representativo del iteso, lo eh jugado desde que tengo 5 años y es con lo que más me identifico y me gusta hacer."
   ]
  }
 ],
 "metadata": {
  "kernelspec": {
   "display_name": "Python 3 (ipykernel)",
   "language": "python",
   "name": "python3"
  },
  "language_info": {
   "codemirror_mode": {
    "name": "ipython",
    "version": 3
   },
   "file_extension": ".py",
   "mimetype": "text/x-python",
   "name": "python",
   "nbconvert_exporter": "python",
   "pygments_lexer": "ipython3",
   "version": "3.11.5"
  }
 },
 "nbformat": 4,
 "nbformat_minor": 5
}
